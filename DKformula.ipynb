{
 "cells": [
  {
   "cell_type": "code",
   "execution_count": 27,
   "metadata": {},
   "outputs": [
    {
     "name": "stdout",
     "output_type": "stream",
     "text": [
      "5.270980384772263\n"
     ]
    }
   ],
   "source": [
    "radelec=2.81794e-15 #meters\n",
    "hbar = 6.626e-34  #J*sec\n",
    "masselec = 9.109e-31  #kg\n",
    "restEnergy = 0.511 #MeV\n",
    "elecEnergy = 5000 #MeV\n",
    "elecGamma = elecEnergy/restEnergy\n",
    "Brho=elecEnergy*3.33/1000\n",
    "Bave=0.2 #Average bending field [T]\n",
    "rhoave=Brho/Bave\n",
    "ratio = 0.01 #ratio of ring composed of bends\n",
    "dnddeltaAbs=5\n",
    "\n",
    "tauinv = ((5*np.sqrt(3)/8)*radelec*elecGamma**5*hbar/masselec)*(11./18.)*(1/(rhoave**3))*ratio*dnddeltaAbs**2\n",
    "tau = 1/tauinv\n",
    "\n",
    "print(tau/3600) #depolarization time in hours\n",
    "\n",
    "#print(elecGamma,Brho,rhoave)"
   ]
  },
  {
   "cell_type": "code",
   "execution_count": 21,
   "metadata": {},
   "outputs": [
    {
     "data": {
      "text/plain": [
       "4.3329859632648936e-07"
      ]
     },
     "execution_count": 21,
     "metadata": {},
     "output_type": "execute_result"
    }
   ],
   "source": [
    "(1/(rhoave**3))*ratio*dnddeltaAbs**2"
   ]
  },
  {
   "cell_type": "code",
   "execution_count": 10,
   "metadata": {},
   "outputs": [
    {
     "data": {
      "text/plain": [
       "199.0208776105658"
      ]
     },
     "execution_count": 10,
     "metadata": {},
     "output_type": "execute_result"
    }
   ],
   "source": [
    "(5*np.sqrt(3)/8)*radelec*elecGamma**5*hbar/masselec"
   ]
  },
  {
   "cell_type": "code",
   "execution_count": 4,
   "metadata": {},
   "outputs": [
    {
     "data": {
      "text/plain": [
       "0.9999969135850099"
      ]
     },
     "execution_count": 4,
     "metadata": {},
     "output_type": "execute_result"
    }
   ],
   "source": [
    "import numpy as np\n",
    "np.exp(-0.1/(9*3600))"
   ]
  },
  {
   "cell_type": "code",
   "execution_count": 6,
   "metadata": {},
   "outputs": [
    {
     "data": {
      "text/plain": [
       "16.65"
      ]
     },
     "execution_count": 6,
     "metadata": {},
     "output_type": "execute_result"
    }
   ],
   "source": [
    "3.33*5"
   ]
  },
  {
   "cell_type": "code",
   "execution_count": null,
   "metadata": {},
   "outputs": [],
   "source": []
  }
 ],
 "metadata": {
  "kernelspec": {
   "display_name": "Python 2",
   "language": "python",
   "name": "py2"
  },
  "language_info": {
   "codemirror_mode": {
    "name": "ipython",
    "version": 2
   },
   "file_extension": ".py",
   "mimetype": "text/x-python",
   "name": "python",
   "nbconvert_exporter": "python",
   "pygments_lexer": "ipython2",
   "version": "2.7.16"
  }
 },
 "nbformat": 4,
 "nbformat_minor": 4
}
