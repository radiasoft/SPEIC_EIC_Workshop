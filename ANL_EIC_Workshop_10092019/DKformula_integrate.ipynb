{
 "cells": [
  {
   "cell_type": "code",
   "execution_count": 41,
   "metadata": {},
   "outputs": [
    {
     "name": "stdout",
     "output_type": "stream",
     "text": [
      "/home/vagrant/jupyter/ZgWork/DKDepolarization\n"
     ]
    }
   ],
   "source": [
    "%matplotlib inline\n",
    "\n",
    "import numpy as np\n",
    "import matplotlib.pyplot as plt\n",
    "import os\n",
    "FL=os.getcwd()\n",
    "print FL\n",
    "\n",
    "S,sx,sy,sz,mods,npart=np.loadtxt('%s/%s'%(FL,'jleic_noerr.fai'),skiprows=3,usecols=(13,19,20,21,22,26),unpack=True)\n",
    "Bvals = np.loadtxt('%s/%s'%(FL,'fieldvals.txt'),skiprows=0,usecols=(2),unpack=True)/10.  # divide by 10 to convert from kG to T\n",
    "Lvals = np.loadtxt('%s/%s'%(FL,'arclengths.txt'),skiprows=0,usecols=(3),unpack=True)/100. # divide by 100 to convert cm to m\n",
    "\n",
    "sx0=sx[0::3]\n",
    "sxd=sx[1::3]\n",
    "sxmd=sx[2::3]\n",
    "\n",
    "sy0=sy[0::3]\n",
    "syd=sy[1::3]\n",
    "symd=sy[2::3]\n",
    "\n",
    "sz0=sz[0::3]\n",
    "szd=sz[1::3]\n",
    "szmd=sz[2::3]\n",
    "\n",
    "delta=1e-4\n",
    "\n",
    "dnx=(sxd-sxmd)\n",
    "dny=(syd-symd)\n",
    "dnz=(szd-szmd)\n",
    "\n",
    "dnddAbs=np.sqrt(dnx**2+dny**2+dnz**2)/(2*delta)\n",
    "\n",
    "Sm=S/100 # convert to meters\n",
    "Sm0=Sm[::3]\n",
    "#circ = Sm[-1]/2 # divide by 2, since we tracked twice through the lattice\n",
    "#print(circ)\n",
    "circ=2185.53268\n",
    "Sm1=Sm0-circ"
   ]
  },
  {
   "cell_type": "code",
   "execution_count": 53,
   "metadata": {},
   "outputs": [
    {
     "name": "stdout",
     "output_type": "stream",
     "text": [
      "('tau = ', 0.706744764822617)\n",
      "('tauave = ', 0.3956914013917039)\n",
      "('aveint = ', 2.17517243766516)\n"
     ]
    }
   ],
   "source": [
    "radelec=2.81794e-15 #meters\n",
    "hbar = 6.626e-34  #J*sec\n",
    "masselec = 9.109e-31  #kg\n",
    "restEnergy = 0.511 #MeV\n",
    "elecEnergy = 5000 #MeV\n",
    "elecGamma = elecEnergy/restEnergy\n",
    "Brho=elecEnergy*3.33/1000\n",
    "\n",
    "Bave=0.2 #Average bending field [T]\n",
    "rhoave=Brho/Bave\n",
    "#ratio = 0.01 #ratio of ring composed of bends\n",
    "#ratio = 0.45684571874057633/2\n",
    "ratio = np.sum(Lvals)/circ\n",
    "\n",
    "#dnddeltaAbs=5\n",
    "dnddeltaAbs=2.7\n",
    "\n",
    "taucoeff = ((5 * np.sqrt(3) / 8) * radelec * elecGamma**5 * hbar / masselec) * (11./18.)\n",
    "\n",
    "aveint = circ * np.sum(np.abs((Bvals/Brho))**3 * Lvals)\n",
    "\n",
    "tauinv = taucoeff / circ * np.sum(np.abs((Bvals/Brho))**3 * dnddAbs**2 * Lvals)\n",
    "\n",
    "tauinvave = taucoeff * (1/(rhoave**3)) * ratio * dnddeltaAbs**2\n",
    "\n",
    "tau = 1/tauinv\n",
    "tauave = 1/tauinvave\n",
    "\n",
    "print(\"tau = \", tau/3600) #depolarization time in hours\n",
    "print(\"tauave = \",tauave/3600) #approximated depolarization time in hours\n",
    "print(\"aveint = \", aveint)"
   ]
  },
  {
   "cell_type": "code",
   "execution_count": 35,
   "metadata": {},
   "outputs": [
    {
     "data": {
      "text/plain": [
       "0.4568222699831695"
      ]
     },
     "execution_count": 35,
     "metadata": {},
     "output_type": "execute_result"
    }
   ],
   "source": [
    "np.sum(Lvals)/circ"
   ]
  },
  {
   "cell_type": "code",
   "execution_count": 31,
   "metadata": {},
   "outputs": [
    {
     "data": {
      "text/plain": [
       "2185.4205020293725"
      ]
     },
     "execution_count": 31,
     "metadata": {},
     "output_type": "execute_result"
    }
   ],
   "source": [
    "circ"
   ]
  },
  {
   "cell_type": "code",
   "execution_count": null,
   "metadata": {},
   "outputs": [],
   "source": []
  },
  {
   "cell_type": "code",
   "execution_count": 55,
   "metadata": {},
   "outputs": [
    {
     "name": "stdout",
     "output_type": "stream",
     "text": [
      "41179892.1259\n"
     ]
    }
   ],
   "source": [
    "T0=circ/3.e8\n",
    "Tstore=5*60\n",
    "Nstore=Tstore/T0\n",
    "print(Nstore)"
   ]
  },
  {
   "cell_type": "code",
   "execution_count": null,
   "metadata": {},
   "outputs": [],
   "source": []
  }
 ],
 "metadata": {
  "kernelspec": {
   "display_name": "Python 2",
   "language": "python",
   "name": "py2"
  },
  "language_info": {
   "codemirror_mode": {
    "name": "ipython",
    "version": 2
   },
   "file_extension": ".py",
   "mimetype": "text/x-python",
   "name": "python",
   "nbconvert_exporter": "python",
   "pygments_lexer": "ipython2",
   "version": "2.7.16"
  }
 },
 "nbformat": 4,
 "nbformat_minor": 4
}
